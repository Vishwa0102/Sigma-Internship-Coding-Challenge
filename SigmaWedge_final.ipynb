{
 "cells": [
  {
   "cell_type": "code",
   "execution_count": 64,
   "id": "904a51c0-320e-4666-b36d-9593de267ae1",
   "metadata": {
    "tags": []
   },
   "outputs": [],
   "source": [
    "import seaborn as sns\n",
    "import pandas as pd"
   ]
  },
  {
   "cell_type": "markdown",
   "id": "c1749c63-6044-4222-9dd0-26ce8126aa07",
   "metadata": {
    "tags": []
   },
   "source": [
    "Activating license key"
   ]
  },
  {
   "cell_type": "code",
   "execution_count": 81,
   "id": "01d6ed25-5080-4fd4-9433-247936d3d1c1",
   "metadata": {
    "tags": []
   },
   "outputs": [],
   "source": [
    "from quantrocket.license import set_license"
   ]
  },
  {
   "cell_type": "code",
   "execution_count": 82,
   "id": "900ad06e-841b-4718-a2d9-73fbb27575b6",
   "metadata": {
    "tags": []
   },
   "outputs": [
    {
     "data": {
      "text/plain": [
       "{'licensekey': '417c........5438', 'software_license': {}}"
      ]
     },
     "execution_count": 82,
     "metadata": {},
     "output_type": "execute_result"
    }
   ],
   "source": [
    "set_license(\"417cd5cc-ddf1-11ee-898f-f17360435438\")"
   ]
  },
  {
   "cell_type": "markdown",
   "id": "eef63d89-c942-4be6-a498-0176236495f9",
   "metadata": {
    "tags": []
   },
   "source": [
    "Create database "
   ]
  },
  {
   "cell_type": "code",
   "execution_count": null,
   "id": "76d4e5dc-1fc5-4506-b911-7b0b95393b42",
   "metadata": {
    "tags": []
   },
   "outputs": [],
   "source": [
    "from quantrocket.history import create_usstock_db\n",
    "create_usstock_db(\"usstock-free-1d\", free=True)\n"
   ]
  },
  {
   "cell_type": "code",
   "execution_count": 22,
   "id": "97cc3635-6778-4cb2-92a8-7665d9f9d65d",
   "metadata": {
    "tags": []
   },
   "outputs": [
    {
     "data": {
      "text/plain": [
       "{'vendor': 'usstock',\n",
       " 'bar_size': '1 day',\n",
       " 'universe': 'FREE',\n",
       " 'shard': 'year',\n",
       " 'fields': ['Symbol',\n",
       "  'Open',\n",
       "  'High',\n",
       "  'Low',\n",
       "  'Close',\n",
       "  'Volume',\n",
       "  'Vwap',\n",
       "  'TotalTrades',\n",
       "  'UnadjOpen',\n",
       "  'UnadjHigh',\n",
       "  'UnadjLow',\n",
       "  'UnadjClose',\n",
       "  'UnadjVolume',\n",
       "  'UnadjVwap']}"
      ]
     },
     "execution_count": 22,
     "metadata": {},
     "output_type": "execute_result"
    }
   ],
   "source": [
    "from quantrocket.history import get_db_config\n",
    "get_db_config(\"usstock-free-1d\")"
   ]
  },
  {
   "cell_type": "code",
   "execution_count": null,
   "id": "4ddc5085-baca-4b93-800b-faef1ede4d20",
   "metadata": {},
   "outputs": [],
   "source": []
  },
  {
   "cell_type": "code",
   "execution_count": 23,
   "id": "19f206a5-c8aa-4737-84a9-83b1207f02b7",
   "metadata": {
    "tags": []
   },
   "outputs": [
    {
     "data": {
      "text/plain": [
       "['usstock-free-1d']"
      ]
     },
     "execution_count": 23,
     "metadata": {},
     "output_type": "execute_result"
    }
   ],
   "source": [
    "from quantrocket.history import list_databases\n",
    "list_databases()"
   ]
  },
  {
   "cell_type": "code",
   "execution_count": null,
   "id": "bcf07291-cbd1-4d17-a04b-38d21bc0ac17",
   "metadata": {},
   "outputs": [],
   "source": [
    "Download clo"
   ]
  },
  {
   "cell_type": "code",
   "execution_count": null,
   "id": "752ab364-afb5-4a51-85e0-709d6fd1c407",
   "metadata": {
    "scrolled": true,
    "tags": []
   },
   "outputs": [],
   "source": [
    "import pandas as pd\n",
    "from quantrocket.history import download_history_file\n",
    "download_history_file(\"usstock-free-1d\",\n",
    "                          start_date=\"2023-01-01\",\n",
    "                          end_date=\"2023-12-31\",\n",
    "                          fields=[\"Close\"],\n",
    "                          sids= [\"FIBBG000B9XRY4\"],  # AAPL's sid\n",
    "                          filepath_or_buffer=\"price_data.csv\")\n",
    "df = pd.read_csv(\"price_data.csv\", parse_dates=[\"Date\"])\n",
    "#.head()"
   ]
  },
  {
   "cell_type": "markdown",
   "id": "89639d41",
   "metadata": {},
   "source": [
    "Read CSV file into pandas DataFrame df"
   ]
  },
  {
   "cell_type": "code",
   "execution_count": 72,
   "id": "7320a254-d8ab-49fa-8536-420a13a9d4c7",
   "metadata": {
    "tags": []
   },
   "outputs": [],
   "source": [
    "import pandas as pd\n",
    "import numpy as np\n",
    "import matplotlib.pyplot as plt\n",
    "df = pd.read_csv(\"price_data.csv\", parse_dates=[\"Date\"])\n",
    "#Sid is not required so drop it\n",
    "df=df.drop(['Sid'],axis=1)\n",
    "\n"
   ]
  },
  {
   "cell_type": "markdown",
   "id": "9cfa49b2",
   "metadata": {},
   "source": [
    "Set option for displaying all rows"
   ]
  },
  {
   "cell_type": "code",
   "execution_count": 73,
   "id": "744a8cde",
   "metadata": {
    "tags": []
   },
   "outputs": [],
   "source": [
    "pd.set_option(\"display.max_rows\",df.shape[0])"
   ]
  },
  {
   "cell_type": "code",
   "execution_count": 74,
   "id": "84f57f42",
   "metadata": {
    "tags": []
   },
   "outputs": [
    {
     "name": "stdout",
     "output_type": "stream",
     "text": [
      "          Date     Close\n",
      "0   2023-01-03  124.2163\n",
      "1   2023-01-04  125.4975\n",
      "2   2023-01-05  124.1666\n",
      "3   2023-01-06  128.7352\n",
      "4   2023-01-09  129.2616\n",
      "5   2023-01-10  129.8377\n",
      "6   2023-01-11  132.5788\n",
      "7   2023-01-12  132.4994\n",
      "8   2023-01-13  133.8402\n",
      "9   2023-01-17  135.0121\n",
      "10  2023-01-18  134.2871\n",
      "11  2023-01-19  134.3467\n",
      "12  2023-01-20  136.9289\n",
      "13  2023-01-23  140.1468\n",
      "14  2023-01-24  141.5571\n",
      "15  2023-01-25  140.8917\n",
      "16  2023-01-26  142.9774\n",
      "17  2023-01-27  144.9339\n",
      "18  2023-01-30  142.0239\n",
      "19  2023-01-31  143.3051\n",
      "20  2023-02-01  144.4373\n",
      "21  2023-02-02  149.7905\n",
      "22  2023-02-03  153.4454\n",
      "23  2023-02-06  150.6943\n",
      "24  2023-02-07  153.5944\n",
      "25  2023-02-08  150.8830\n",
      "26  2023-02-09  149.8402\n",
      "27  2023-02-10  150.2082\n",
      "28  2023-02-13  153.0332\n",
      "29  2023-02-14  152.3866\n",
      "30  2023-02-15  154.5053\n",
      "31  2023-02-16  152.8939\n",
      "32  2023-02-17  151.7401\n",
      "33  2023-02-21  147.6917\n",
      "34  2023-02-22  148.1194\n",
      "35  2023-02-23  148.6068\n",
      "36  2023-02-24  145.9311\n",
      "37  2023-02-27  147.1346\n",
      "38  2023-02-28  146.6273\n",
      "39  2023-03-01  144.5385\n",
      "40  2023-03-02  145.1353\n",
      "41  2023-03-03  150.2281\n",
      "42  2023-03-06  153.0133\n",
      "43  2023-03-07  150.7951\n",
      "44  2023-03-08  152.0584\n",
      "45  2023-03-09  149.7905\n",
      "46  2023-03-10  147.7116\n",
      "47  2023-03-13  149.6711\n",
      "48  2023-03-14  151.7798\n",
      "49  2023-03-15  152.1777\n",
      "50  2023-03-16  155.0225\n",
      "51  2023-03-17  154.1770\n",
      "52  2023-03-20  156.5643\n",
      "53  2023-03-21  158.4343\n",
      "54  2023-03-22  156.9920\n",
      "55  2023-03-23  158.0862\n",
      "56  2023-03-24  159.3992\n",
      "57  2023-03-27  157.4396\n",
      "58  2023-03-28  156.8130\n",
      "59  2023-03-29  159.9164\n",
      "60  2023-03-30  161.4980\n",
      "61  2023-03-31  164.0245\n",
      "62  2023-04-03  165.2877\n",
      "63  2023-04-04  164.7506\n",
      "64  2023-04-05  162.8905\n",
      "65  2023-04-06  163.7858\n",
      "66  2023-04-10  161.1697\n",
      "67  2023-04-11  159.9463\n",
      "68  2023-04-12  159.2500\n",
      "69  2023-04-13  164.6810\n",
      "70  2023-04-14  164.3328\n",
      "71  2023-04-17  164.3527\n",
      "72  2023-04-18  165.5861\n",
      "73  2023-04-19  166.7400\n",
      "74  2023-04-20  165.7652\n",
      "75  2023-04-21  164.1438\n",
      "76  2023-04-24  164.4522\n",
      "77  2023-04-25  162.9005\n",
      "78  2023-04-26  162.8905\n",
      "79  2023-04-27  167.5158\n",
      "80  2023-04-28  168.7791\n",
      "81  2023-05-01  168.6896\n",
      "82  2023-05-02  167.6452\n",
      "83  2023-05-03  166.5609\n",
      "84  2023-05-04  164.9098\n",
      "85  2023-05-05  172.6485\n",
      "86  2023-05-08  172.5788\n",
      "87  2023-05-09  170.8580\n",
      "88  2023-05-10  172.6335\n",
      "89  2023-05-11  172.8275\n",
      "90  2023-05-12  171.8912\n",
      "91  2023-05-15  171.3932\n",
      "92  2023-05-16  171.3932\n",
      "93  2023-05-17  172.0107\n",
      "94  2023-05-18  174.3614\n",
      "95  2023-05-19  174.4710\n",
      "96  2023-05-22  173.5148\n",
      "97  2023-05-23  170.8852\n",
      "98  2023-05-24  171.1641\n",
      "99  2023-05-25  172.3095\n",
      "100 2023-05-26  174.7399\n",
      "101 2023-05-30  176.6026\n",
      "102 2023-05-31  176.5528\n",
      "103 2023-06-01  179.3816\n",
      "104 2023-06-02  180.2382\n",
      "105 2023-06-05  178.8736\n",
      "106 2023-06-06  178.5051\n",
      "107 2023-06-07  177.1205\n",
      "108 2023-06-08  179.8597\n",
      "109 2023-06-09  180.2482\n",
      "110 2023-06-12  183.0671\n",
      "111 2023-06-13  182.5889\n",
      "112 2023-06-14  183.2264\n",
      "113 2023-06-15  185.2783\n",
      "114 2023-06-16  184.1926\n",
      "115 2023-06-20  184.2823\n",
      "116 2023-06-21  183.2364\n",
      "117 2023-06-22  186.2644\n",
      "118 2023-06-23  185.9457\n",
      "119 2023-06-26  184.5412\n",
      "120 2023-06-27  187.3203\n",
      "121 2023-06-28  188.5056\n",
      "122 2023-06-29  188.8442\n",
      "123 2023-06-30  193.2070\n",
      "124 2023-07-03  191.7030\n",
      "125 2023-07-05  190.5774\n",
      "126 2023-07-06  191.0555\n",
      "127 2023-07-07  189.9300\n",
      "128 2023-07-10  187.8681\n",
      "129 2023-07-11  187.3402\n",
      "130 2023-07-12  189.0235\n",
      "131 2023-07-13  189.7905\n",
      "132 2023-07-14  189.9399\n",
      "133 2023-07-17  193.2269\n",
      "134 2023-07-18  192.9680\n",
      "135 2023-07-19  194.3326\n",
      "136 2023-07-20  192.3703\n",
      "137 2023-07-21  191.1850\n",
      "138 2023-07-24  191.9918\n",
      "139 2023-07-25  192.8584\n",
      "140 2023-07-26  193.7349\n",
      "141 2023-07-27  192.4600\n",
      "142 2023-07-28  195.0597\n",
      "143 2023-07-31  195.6773\n",
      "144 2023-08-01  194.8356\n",
      "145 2023-08-02  191.8225\n",
      "146 2023-08-03  190.4180\n",
      "147 2023-08-04  181.2741\n",
      "148 2023-08-07  178.1465\n",
      "149 2023-08-08  179.0928\n",
      "150 2023-08-09  177.4891\n",
      "151 2023-08-10  177.2700\n",
      "152 2023-08-11  177.3298\n",
      "153 2023-08-14  178.9955\n",
      "154 2023-08-15  176.9907\n",
      "155 2023-08-16  176.1130\n",
      "156 2023-08-17  173.5496\n",
      "157 2023-08-18  174.0383\n",
      "158 2023-08-21  175.3848\n",
      "159 2023-08-22  176.7712\n",
      "160 2023-08-23  180.6512\n",
      "161 2023-08-24  175.9234\n",
      "162 2023-08-25  178.1477\n",
      "163 2023-08-28  179.7236\n",
      "164 2023-08-29  183.6434\n",
      "165 2023-08-30  187.1643\n",
      "166 2023-08-31  187.3837\n",
      "167 2023-09-01  188.9696\n",
      "168 2023-09-05  189.2090\n",
      "169 2023-09-06  182.4365\n",
      "170 2023-09-07  177.1004\n",
      "171 2023-09-08  177.7188\n",
      "172 2023-09-11  178.8957\n",
      "173 2023-09-12  175.8437\n",
      "174 2023-09-13  173.7591\n",
      "175 2023-09-14  175.2851\n",
      "176 2023-09-15  174.5570\n",
      "177 2023-09-18  177.5093\n",
      "178 2023-09-19  178.6065\n",
      "179 2023-09-20  175.0357\n",
      "180 2023-09-21  173.4798\n",
      "181 2023-09-22  174.3376\n",
      "182 2023-09-25  175.6242\n",
      "183 2023-09-26  171.5149\n",
      "184 2023-09-27  169.9888\n",
      "185 2023-09-28  170.2482\n",
      "186 2023-09-29  170.7668\n",
      "187 2023-10-02  173.3003\n",
      "188 2023-10-03  171.9537\n",
      "189 2023-10-04  173.2105\n",
      "190 2023-10-05  174.4573\n",
      "191 2023-10-06  177.0306\n",
      "192 2023-10-09  178.5267\n",
      "193 2023-10-10  177.9282\n",
      "194 2023-10-11  179.3346\n",
      "195 2023-10-12  180.2422\n",
      "196 2023-10-13  178.3871\n",
      "197 2023-10-16  178.2574\n",
      "198 2023-10-17  176.6915\n",
      "199 2023-10-18  175.3848\n",
      "200 2023-10-19  175.0058\n",
      "201 2023-10-20  172.4325\n",
      "202 2023-10-23  172.5522\n",
      "203 2023-10-24  172.9911\n",
      "204 2023-10-25  170.6571\n",
      "205 2023-10-26  166.4580\n",
      "206 2023-10-27  167.7846\n",
      "207 2023-10-30  169.8492\n",
      "208 2023-10-31  170.3280\n",
      "209 2023-11-01  173.5197\n",
      "210 2023-11-02  177.1104\n",
      "211 2023-11-03  176.1927\n",
      "212 2023-11-06  178.7661\n",
      "213 2023-11-07  181.3494\n",
      "214 2023-11-08  182.4166\n",
      "215 2023-11-09  181.9378\n",
      "216 2023-11-10  186.1624\n",
      "217 2023-11-13  184.5645\n",
      "218 2023-11-14  187.2011\n",
      "219 2023-11-15  187.7704\n",
      "220 2023-11-16  189.4682\n",
      "221 2023-11-17  189.4483\n",
      "222 2023-11-20  191.2060\n",
      "223 2023-11-21  190.3970\n",
      "224 2023-11-22  191.0662\n",
      "225 2023-11-24  189.7279\n",
      "226 2023-11-27  189.5481\n",
      "227 2023-11-28  190.1573\n",
      "228 2023-11-29  189.1287\n",
      "229 2023-11-30  189.7079\n",
      "230 2023-12-01  190.9963\n",
      "231 2023-12-04  189.1886\n",
      "232 2023-12-05  193.1735\n",
      "233 2023-12-06  192.0749\n",
      "234 2023-12-07  194.0224\n",
      "235 2023-12-08  195.4606\n",
      "236 2023-12-11  192.9338\n",
      "237 2023-12-12  194.4619\n",
      "238 2023-12-13  197.7077\n",
      "239 2023-12-14  197.8575\n",
      "240 2023-12-15  197.3182\n",
      "241 2023-12-18  195.6404\n",
      "242 2023-12-19  196.6890\n",
      "243 2023-12-20  194.5817\n",
      "244 2023-12-21  194.4319\n",
      "245 2023-12-22  193.3533\n",
      "246 2023-12-26  192.8040\n",
      "247 2023-12-27  192.9038\n",
      "248 2023-12-28  193.3333\n",
      "249 2023-12-29  192.2846\n"
     ]
    }
   ],
   "source": [
    "print(df)"
   ]
  },
  {
   "cell_type": "code",
   "execution_count": 30,
   "id": "fb923f10",
   "metadata": {
    "tags": []
   },
   "outputs": [
    {
     "data": {
      "text/html": [
       "<div>\n",
       "<style scoped>\n",
       "    .dataframe tbody tr th:only-of-type {\n",
       "        vertical-align: middle;\n",
       "    }\n",
       "\n",
       "    .dataframe tbody tr th {\n",
       "        vertical-align: top;\n",
       "    }\n",
       "\n",
       "    .dataframe thead th {\n",
       "        text-align: right;\n",
       "    }\n",
       "</style>\n",
       "<table border=\"1\" class=\"dataframe\">\n",
       "  <thead>\n",
       "    <tr style=\"text-align: right;\">\n",
       "      <th></th>\n",
       "      <th>Date</th>\n",
       "      <th>Close</th>\n",
       "    </tr>\n",
       "  </thead>\n",
       "  <tbody>\n",
       "    <tr>\n",
       "      <th>0</th>\n",
       "      <td>2023-01-03</td>\n",
       "      <td>124.2163</td>\n",
       "    </tr>\n",
       "    <tr>\n",
       "      <th>1</th>\n",
       "      <td>2023-01-04</td>\n",
       "      <td>125.4975</td>\n",
       "    </tr>\n",
       "    <tr>\n",
       "      <th>2</th>\n",
       "      <td>2023-01-05</td>\n",
       "      <td>124.1666</td>\n",
       "    </tr>\n",
       "    <tr>\n",
       "      <th>3</th>\n",
       "      <td>2023-01-06</td>\n",
       "      <td>128.7352</td>\n",
       "    </tr>\n",
       "    <tr>\n",
       "      <th>4</th>\n",
       "      <td>2023-01-09</td>\n",
       "      <td>129.2616</td>\n",
       "    </tr>\n",
       "  </tbody>\n",
       "</table>\n",
       "</div>"
      ],
      "text/plain": [
       "        Date     Close\n",
       "0 2023-01-03  124.2163\n",
       "1 2023-01-04  125.4975\n",
       "2 2023-01-05  124.1666\n",
       "3 2023-01-06  128.7352\n",
       "4 2023-01-09  129.2616"
      ]
     },
     "execution_count": 30,
     "metadata": {},
     "output_type": "execute_result"
    }
   ],
   "source": [
    "df.head()"
   ]
  },
  {
   "cell_type": "markdown",
   "id": "abf53e88",
   "metadata": {},
   "source": [
    "Compute Returns and State"
   ]
  },
  {
   "cell_type": "code",
   "execution_count": 75,
   "id": "c4cb5932-4f47-4d1a-9326-9a130fd231ea",
   "metadata": {
    "scrolled": true,
    "tags": []
   },
   "outputs": [],
   "source": [
    "import pandas as pd\n",
    "import numpy as np\n",
    "\n",
    "df['Date'] = pd.to_datetime(df['Date'])\n",
    "df['Returns'] = ((df['Close'] - df['Close'].shift(1)) / df['Close'].shift(1))\n",
    "df['State'] = np.where(df['Returns'] >= 0.01, 1, np.where((df['Returns'] > -0.01) & (df['Returns'] < 0.01), 0, -1))\n",
    "\n",
    "\n"
   ]
  },
  {
   "cell_type": "code",
   "execution_count": 76,
   "id": "265dc2bb",
   "metadata": {
    "tags": []
   },
   "outputs": [
    {
     "data": {
      "text/plain": [
       " 0    158\n",
       " 1     56\n",
       "-1     36\n",
       "Name: State, dtype: int64"
      ]
     },
     "execution_count": 76,
     "metadata": {},
     "output_type": "execute_result"
    }
   ],
   "source": [
    "df['State'].value_counts()"
   ]
  },
  {
   "cell_type": "code",
   "execution_count": 77,
   "id": "c9ac340f-8c6a-431f-842b-35a14bbb2d9e",
   "metadata": {
    "scrolled": true,
    "tags": []
   },
   "outputs": [
    {
     "data": {
      "image/png": "[encoded data removed]",
      "text/plain": [
       "<Figure size 720x432 with 1 Axes>"
      ]
     },
     "metadata": {},
     "output_type": "display_data"
    }
   ],
   "source": [
    "df['State'].value_counts()\n",
    "df['State'] = df['State'].replace({-1: 'Bear', 1: 'Bull', 0: 'Flat'})\n",
    "plt.figure(figsize=(10, 6))\n",
    "ax = df['State'].value_counts().plot(kind='bar', color='lightgreen')\n",
    "\n",
    "# Rotate x-axis labels horizontally\n",
    "ax.set_xticklabels(ax.get_xticklabels(), rotation=0)\n",
    "\n",
    "plt.title('Distribution of States')\n",
    "plt.xlabel('State')\n",
    "plt.ylabel('Count')\n",
    "plt.show()\n",
    "df['State'] = df['State'].replace({ 'Bear':-1,  'Bull':1, 'Flat':0})\n"
   ]
  },
  {
   "cell_type": "markdown",
   "id": "d516536a",
   "metadata": {},
   "source": [
    "Compute Portfolio Value and Optimal Buy Indices"
   ]
  },
  {
   "cell_type": "code",
   "execution_count": 78,
   "id": "4f02c770-6943-40c5-b370-1b0c609a20ce",
   "metadata": {
    "tags": []
   },
   "outputs": [
    {
     "name": "stdout",
     "output_type": "stream",
     "text": [
      "Final Portfolio Value: 40\n",
      "Optimal Buy Indices: [6, 8, 12, 16, 21, 28, 30, 41, 50, 52, 59, 61, 69, 79, 85, 88, 94, 100, 103, 108, 110, 113, 117, 120, 123, 133, 142, 160, 164, 177, 187, 191, 207, 209, 212, 216, 218, 232, 234, 238]\n"
     ]
    }
   ],
   "source": [
    "\n",
    "#Assuming that initial portfolio value is 0 at the start of the year 2023\n",
    "df['Portfolio_Value'] = 0\n",
    "\n",
    "for i in range(1, len(df)):\n",
    "    if df.at[i, 'State'] == 1 and df.at[i-1, 'State'] == 0 :\n",
    "        df.at[i, 'Portfolio_Value'] = df.at[i-1, 'Portfolio_Value'] + 1\n",
    "    elif df.at[i, 'State'] == -1 and df.at[i-1, 'State'] == 0:\n",
    "        df.at[i, 'Portfolio_Value'] = df.at[i-1, 'Portfolio_Value'] \n",
    "    else:\n",
    "        df.at[i, 'Portfolio_Value'] = df.at[i-1, 'Portfolio_Value']\n",
    "\n",
    "optimal_buy_indices = df.loc[(df['State'] == 1) & (df['State'].shift(1) == 0)].index\n",
    "\n",
    "print(\"Final Portfolio Value:\", df['Portfolio_Value'].iloc[-1])\n",
    "print(\"Optimal Buy Indices:\", list(optimal_buy_indices))\n"
   ]
  },
  {
   "cell_type": "markdown",
   "id": "470329db",
   "metadata": {},
   "source": [
    "Compute Transition Matrix"
   ]
  },
  {
   "cell_type": "code",
   "execution_count": 79,
   "id": "eaf38428-17eb-4802-9b4e-4a81234c0b2e",
   "metadata": {
    "scrolled": true,
    "tags": []
   },
   "outputs": [
    {
     "name": "stdout",
     "output_type": "stream",
     "text": [
      "          -1         0         1\n",
      "-1  0.138889  0.722222  0.138889\n",
      " 0  0.146497  0.598726  0.254777\n",
      " 1  0.125000  0.678571  0.196429\n"
     ]
    }
   ],
   "source": [
    "import pandas as pd\n",
    "states_list=sorted(list(df['State'].unique()))\n",
    "transition_matrix = pd.DataFrame(index=states_list, columns=states_list, dtype=float)\n",
    "\n",
    "# Initialize transition matrix with zeros\n",
    "for state in df['State'].unique():\n",
    "    transition_matrix.loc[state] = 0.0\n",
    "\n",
    "# Calculate transition probabilities using count of each time the transition has occured in the year\n",
    "for i in range(1, len(df)):\n",
    "    prev_state = df['State'].iloc[i-1]\n",
    "    curr_state = df['State'].iloc[i]\n",
    "    transition_matrix.loc[prev_state, curr_state] += 1\n",
    "\n",
    "# Normalize transition matrix\n",
    "for state in df['State'].unique():\n",
    "    transition_matrix.loc[state] /= transition_matrix.loc[state].sum()\n",
    "\n",
    "# Display the transition matrix\n",
    "print(transition_matrix)\n"
   ]
  }
 ],
 "metadata": {
  "kernelspec": {
   "display_name": "Python 3.9",
   "language": "python",
   "name": "python3"
  },
  "language_info": {
   "codemirror_mode": {
    "name": "ipython",
    "version": 3
   },
   "file_extension": ".py",
   "mimetype": "text/x-python",
   "name": "python",
   "nbconvert_exporter": "python",
   "pygments_lexer": "ipython3",
   "version": "3.9.12"
  }
 },
 "nbformat": 4,
 "nbformat_minor": 5
}
